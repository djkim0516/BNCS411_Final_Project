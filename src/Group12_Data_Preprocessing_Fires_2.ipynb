{
  "nbformat": 4,
  "nbformat_minor": 0,
  "metadata": {
    "colab": {
      "name": "Group12_Data_Preprocessing_Fires_2.ipynb",
      "provenance": [],
      "collapsed_sections": []
    },
    "kernelspec": {
      "display_name": "Python 3",
      "name": "python3"
    }
  },
  "cells": [
    {
      "cell_type": "markdown",
      "metadata": {
        "id": "tQI7gzpT_wLU"
      },
      "source": [
        "# Data Preprocessing Fires 2 #\n",
        "in this notebook we aim to predict the statecode of a fire occurance based on the lat/long values we have.\n",
        "We ended up using the KNN Algorithm as it proved to have the highest accuracy compared to other common classification algorighms.\n",
        "\n",
        "To train the model we used the ~50.000 accurate values we got from the google geocoding API in the last notebook."
      ]
    },
    {
      "cell_type": "code",
      "metadata": {
        "colab": {
          "base_uri": "https://localhost:8080/"
        },
        "id": "Tuc2Vs4HMZxC",
        "outputId": "a98ca911-e8cf-4b8e-f48e-4c114bd044e2"
      },
      "source": [
        "from google.colab import drive\n",
        "from sklearn.model_selection import train_test_split\n",
        "from sklearn.neighbors import KNeighborsClassifier\n",
        "from sklearn.svm import SVC\n",
        "from sklearn.metrics import confusion_matrix\n",
        "from sklearn.naive_bayes import GaussianNB\n",
        "from sklearn.tree import DecisionTreeClassifier\n",
        "import numpy as np\n",
        "import pandas as pd\n",
        "drive.mount(\"/content/drive\")"
      ],
      "execution_count": null,
      "outputs": [
        {
          "output_type": "stream",
          "text": [
            "Mounted at /content/drive\n"
          ],
          "name": "stdout"
        }
      ]
    },
    {
      "cell_type": "markdown",
      "metadata": {
        "id": "pOpZlgW-Ak8q"
      },
      "source": [
        "- Loading the rand_fires (the 50.000 values from the API were randomized in advance) as our training/testing dataset.\n",
        "- Loading the rand_fires_empty which includes the rest of the randomized fires without statecode into df_total."
      ]
    },
    {
      "cell_type": "code",
      "metadata": {
        "id": "BePcVuTtNI0l"
      },
      "source": [
        "df = pd.DataFrame()\n",
        "df = df.append(pd.read_csv(f'/content/drive/Shared drives/BNCS411_Final_Project/rand_fires.csv', delimiter=\",\"))\n",
        "df_total = pd.DataFrame()\n",
        "df_total = df_total.append(pd.read_csv(f'/content/drive/Shared drives/BNCS411_Final_Project/rand_fires_empty.csv', delimiter=\",\"))\n",
        "#df_total = df_total.append(pd.read_csv(f'/content/drive/Shared drives/BNCS411_Final_Project/fires_pred_knn.csv', delimiter=\",\"))"
      ],
      "execution_count": null,
      "outputs": []
    },
    {
      "cell_type": "markdown",
      "metadata": {
        "id": "m-CjUfUdBPhr"
      },
      "source": [
        "- Unnamed: 0 has to be dropped as we don't need it and still haven't found out how to avoid creating it.\n",
        "- Extracting a version of df_total which only contains lat/long as these are the labels used by knn (we don't want any other columns to be present when predicting)"
      ]
    },
    {
      "cell_type": "code",
      "metadata": {
        "id": "BibP7d55swnr",
        "colab": {
          "base_uri": "https://localhost:8080/",
          "height": 402
        },
        "outputId": "1e6286c9-f843-4f36-d6e7-d2f5a30bbd8c"
      },
      "source": [
        "del df['Unnamed: 0']\n",
        "del df_total['Unnamed: 0']\n",
        "df_total = df_total[df_total['statecode'] != 'BR']\n",
        "df_total_no_date = df_total.drop(['acq_date', 'statecode'], 1)\n",
        "df_total_no_date"
      ],
      "execution_count": null,
      "outputs": [
        {
          "output_type": "execute_result",
          "data": {
            "text/html": [
              "<div>\n",
              "<style scoped>\n",
              "    .dataframe tbody tr th:only-of-type {\n",
              "        vertical-align: middle;\n",
              "    }\n",
              "\n",
              "    .dataframe tbody tr th {\n",
              "        vertical-align: top;\n",
              "    }\n",
              "\n",
              "    .dataframe thead th {\n",
              "        text-align: right;\n",
              "    }\n",
              "</style>\n",
              "<table border=\"1\" class=\"dataframe\">\n",
              "  <thead>\n",
              "    <tr style=\"text-align: right;\">\n",
              "      <th></th>\n",
              "      <th>latitude</th>\n",
              "      <th>longitude</th>\n",
              "    </tr>\n",
              "  </thead>\n",
              "  <tbody>\n",
              "    <tr>\n",
              "      <th>0</th>\n",
              "      <td>-2.9955</td>\n",
              "      <td>-41.3716</td>\n",
              "    </tr>\n",
              "    <tr>\n",
              "      <th>1</th>\n",
              "      <td>-9.4152</td>\n",
              "      <td>-51.4789</td>\n",
              "    </tr>\n",
              "    <tr>\n",
              "      <th>2</th>\n",
              "      <td>-11.9844</td>\n",
              "      <td>-46.6188</td>\n",
              "    </tr>\n",
              "    <tr>\n",
              "      <th>3</th>\n",
              "      <td>-11.0440</td>\n",
              "      <td>-47.3342</td>\n",
              "    </tr>\n",
              "    <tr>\n",
              "      <th>4</th>\n",
              "      <td>-3.3384</td>\n",
              "      <td>-51.4488</td>\n",
              "    </tr>\n",
              "    <tr>\n",
              "      <th>...</th>\n",
              "      <td>...</td>\n",
              "      <td>...</td>\n",
              "    </tr>\n",
              "    <tr>\n",
              "      <th>7252682</th>\n",
              "      <td>-9.4897</td>\n",
              "      <td>-65.7249</td>\n",
              "    </tr>\n",
              "    <tr>\n",
              "      <th>7252683</th>\n",
              "      <td>-11.6497</td>\n",
              "      <td>-61.4685</td>\n",
              "    </tr>\n",
              "    <tr>\n",
              "      <th>7252684</th>\n",
              "      <td>-11.3062</td>\n",
              "      <td>-57.9672</td>\n",
              "    </tr>\n",
              "    <tr>\n",
              "      <th>7252685</th>\n",
              "      <td>-9.8674</td>\n",
              "      <td>-62.4461</td>\n",
              "    </tr>\n",
              "    <tr>\n",
              "      <th>7252686</th>\n",
              "      <td>-13.2538</td>\n",
              "      <td>-55.0357</td>\n",
              "    </tr>\n",
              "  </tbody>\n",
              "</table>\n",
              "<p>7252687 rows × 2 columns</p>\n",
              "</div>"
            ],
            "text/plain": [
              "         latitude  longitude\n",
              "0         -2.9955   -41.3716\n",
              "1         -9.4152   -51.4789\n",
              "2        -11.9844   -46.6188\n",
              "3        -11.0440   -47.3342\n",
              "4         -3.3384   -51.4488\n",
              "...           ...        ...\n",
              "7252682   -9.4897   -65.7249\n",
              "7252683  -11.6497   -61.4685\n",
              "7252684  -11.3062   -57.9672\n",
              "7252685   -9.8674   -62.4461\n",
              "7252686  -13.2538   -55.0357\n",
              "\n",
              "[7252687 rows x 2 columns]"
            ]
          },
          "metadata": {
            "tags": []
          },
          "execution_count": 3
        }
      ]
    },
    {
      "cell_type": "markdown",
      "metadata": {
        "id": "bw62pxLlBv_Q"
      },
      "source": [
        "- Preparing our labels & features on the training/testing set"
      ]
    },
    {
      "cell_type": "code",
      "metadata": {
        "id": "ChVo0rloNkZg"
      },
      "source": [
        "X = df.drop(['acq_date', 'statecode'], 1)\n",
        "y = df['statecode']\n",
        "#X, y"
      ],
      "execution_count": null,
      "outputs": []
    },
    {
      "cell_type": "markdown",
      "metadata": {
        "id": "T80ZAAGyB6zj"
      },
      "source": [
        "- Translating lat/long to radians to use the haversine metric later on"
      ]
    },
    {
      "cell_type": "code",
      "metadata": {
        "id": "AKICJ9d4Zh67"
      },
      "source": [
        "X_rad = X*np.pi/180\n",
        "y_rad = y"
      ],
      "execution_count": null,
      "outputs": []
    },
    {
      "cell_type": "markdown",
      "metadata": {
        "id": "T-Ut95QOCDqZ"
      },
      "source": [
        "- Creating Train/Test Splits (tune here to improve accuracy)"
      ]
    },
    {
      "cell_type": "code",
      "metadata": {
        "id": "75ZtBoIFb4eN"
      },
      "source": [
        "X_train, X_test, y_train, y_test = train_test_split(X_rad, y_rad, test_size = 0.1, random_state = 42)\n",
        "#X_train, X_test, y_train, y_test"
      ],
      "execution_count": null,
      "outputs": []
    },
    {
      "cell_type": "markdown",
      "metadata": {
        "id": "02NR1CvQCgNp"
      },
      "source": [
        "- Fitting the model to our training data"
      ]
    },
    {
      "cell_type": "code",
      "metadata": {
        "id": "ukE3c_qwb0B-",
        "colab": {
          "base_uri": "https://localhost:8080/"
        },
        "outputId": "bf3e45d2-04f4-40e8-fe82-71647a9affd9"
      },
      "source": [
        "knn = KNeighborsClassifier(n_neighbors=5, metric='haversine').fit(X_train, y_train)\n",
        "accuracy = knn.score(X_test, y_test)\n",
        "accuracy"
      ],
      "execution_count": null,
      "outputs": [
        {
          "output_type": "execute_result",
          "data": {
            "text/plain": [
              "0.8548748219010788"
            ]
          },
          "metadata": {
            "tags": []
          },
          "execution_count": 7
        }
      ]
    },
    {
      "cell_type": "markdown",
      "metadata": {
        "id": "kHdq5MkWCk7U"
      },
      "source": [
        "- change lat/long of df_total to radians\n",
        "- save the prediction onto 'statecode' column of our df_total"
      ]
    },
    {
      "cell_type": "code",
      "metadata": {
        "id": "mpeyKkRLuY2n"
      },
      "source": [
        "df_total_no_date_rad = df_total_no_date*np.pi/180\n",
        "df_total['statecode'] = knn.predict(df_total_no_date_rad)"
      ],
      "execution_count": null,
      "outputs": []
    },
    {
      "cell_type": "markdown",
      "metadata": {
        "id": "_IhbYSGBC4lF"
      },
      "source": [
        "- Finally drop lat/long as we don't need it anymore after predicting the Statecode"
      ]
    },
    {
      "cell_type": "code",
      "metadata": {
        "id": "63yWcir65VTx"
      },
      "source": [
        "df_total = df_total.drop(['latitude', 'longitude'], 1)"
      ],
      "execution_count": null,
      "outputs": []
    },
    {
      "cell_type": "markdown",
      "metadata": {
        "id": "xM185YdOC_8z"
      },
      "source": [
        "- group to count Fires per day/state and save it onto 'fires column' "
      ]
    },
    {
      "cell_type": "code",
      "metadata": {
        "id": "-1saTYsi6ZYs"
      },
      "source": [
        "df_total = df_total.groupby([\"acq_date\", \"statecode\"]).size().reset_index(name=\"fires\")\n",
        "df_total"
      ],
      "execution_count": null,
      "outputs": []
    },
    {
      "cell_type": "markdown",
      "metadata": {
        "id": "u-8EwZYpDKjK"
      },
      "source": [
        "- saving result to csv file"
      ]
    },
    {
      "cell_type": "code",
      "metadata": {
        "id": "qLlP8v-T_JEp"
      },
      "source": [
        "df_total.to_csv('fires_pred_knn.csv')\n",
        "!cp fires_pred_knn.csv \"/content/drive/Shared drives/BNCS411_Final_Project\""
      ],
      "execution_count": null,
      "outputs": []
    },
    {
      "cell_type": "markdown",
      "metadata": {
        "id": "0ngzTFZbDU5Q"
      },
      "source": [
        "- previous accuracy tests to determine optimal algorithm for our dataset"
      ]
    },
    {
      "cell_type": "code",
      "metadata": {
        "id": "E92jFSrkN8hC"
      },
      "source": [
        "X_train, X_test, y_train, y_test = train_test_split(X, y, test_size = 0.1, random_state = 42)\n",
        "X_train, X_test, y_train, y_test\n",
        "dtc = DecisionTreeClassifier(max_depth=100, criterion='entropy', min_samples_split=2).fit(X_train, y_train)\n",
        "accuracy = dtc.score(X_test, y_test)\n",
        "accuracy"
      ],
      "execution_count": null,
      "outputs": []
    },
    {
      "cell_type": "markdown",
      "metadata": {
        "id": "q_ZR2Ma_Dj05"
      },
      "source": [
        "**Preprocessing TODO**\n",
        "- ~~combine Weather & fire dataset~~\n",
        "- maybe combine entire the preprocessing code into single file"
      ]
    }
  ]
}