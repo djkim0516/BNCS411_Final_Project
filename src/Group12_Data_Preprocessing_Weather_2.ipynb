{
  "nbformat": 4,
  "nbformat_minor": 0,
  "metadata": {
    "colab": {
      "name": "Group12_Data_Preprocessing_Weather_2.ipynb",
      "provenance": [],
      "collapsed_sections": []
    },
    "kernelspec": {
      "display_name": "Python 3",
      "name": "python3"
    }
  },
  "cells": [
    {
      "cell_type": "markdown",
      "metadata": {
        "id": "QSA2SwJ454Iq"
      },
      "source": [
        "# Weather Data Preprocessing 2# \n"
      ]
    },
    {
      "cell_type": "markdown",
      "metadata": {
        "id": "d-7-L4ak1cAj"
      },
      "source": [
        "In this notebook we clean up the weather dataframe & merge it with the fire dataframe."
      ]
    },
    {
      "cell_type": "code",
      "metadata": {
        "colab": {
          "base_uri": "https://localhost:8080/"
        },
        "id": "8EMhZXcMuwK6",
        "outputId": "75ecdee3-6d61-44a3-fc77-a6d35ba2ca24"
      },
      "source": [
        "import pandas as pd\n",
        "import matplotlib.pyplot as plt\n",
        "from scipy import interpolate\n",
        "from google.colab import drive\n",
        "drive.mount(\"/content/drive\")\n",
        "#pd.set_option('display.max_rows', None)"
      ],
      "execution_count": null,
      "outputs": [
        {
          "output_type": "stream",
          "text": [
            "Mounted at /content/drive\n"
          ],
          "name": "stdout"
        }
      ]
    },
    {
      "cell_type": "markdown",
      "metadata": {
        "id": "aRMMshQM9Aq2"
      },
      "source": [
        "- load the csv file that we got from Data_Preprocessing_Weather_1.ipynb into a dataframe"
      ]
    },
    {
      "cell_type": "code",
      "metadata": {
        "id": "sN2aHMm_vEHR"
      },
      "source": [
        "weather_with_state = pd.read_csv('/content/drive/Shared drives/BNCS411_Final_Project/weather_with_state.csv', delimiter = ',')\n",
        "fires_pred_knn = pd.read_csv('/content/drive/Shared drives/BNCS411_Final_Project/fires_pred_knn.csv', delimiter=',')\n",
        "del fires_pred_knn['Unnamed: 0']"
      ],
      "execution_count": null,
      "outputs": []
    },
    {
      "cell_type": "markdown",
      "metadata": {
        "id": "6z704qvw9Nte"
      },
      "source": [
        "- drop all columns that we don't need as features later"
      ]
    },
    {
      "cell_type": "code",
      "metadata": {
        "id": "hxm55Dimxbcc"
      },
      "source": [
        "weather_with_state = weather_with_state.drop(['Unnamed: 0','Estacao','Hora', 'Precipitacao','TempBulboSeco', 'TempBulboUmido','UmidadeRelativa', \n",
        "                  'PressaoAtmEstacao', 'PressaoAtmMar', 'DirecaoVento','VelocidadeVento', 'Insolacao', 'Nebulosidade', \n",
        "                  'Evaporacao Piche','Temp Comp Media', 'Unnamed: 19'], 1)\n"
      ],
      "execution_count": null,
      "outputs": []
    },
    {
      "cell_type": "markdown",
      "metadata": {
        "id": "dpTFsYSY9VbT"
      },
      "source": [
        "- correct an error from Data_Preprocessing_Weather_1.ipynb (october 2000 needed to be dropped)"
      ]
    },
    {
      "cell_type": "code",
      "metadata": {
        "id": "s_Bzr5yv0WWw"
      },
      "source": [
        "weather_with_state['Data'] = pd.to_datetime(weather_with_state['Data'])\n",
        "weather_with_state = weather_with_state[~weather_with_state['Data'].isin(pd.date_range(start='20001002', end='20001031'))]"
      ],
      "execution_count": null,
      "outputs": []
    },
    {
      "cell_type": "markdown",
      "metadata": {
        "id": "UPfHgD4m9iul"
      },
      "source": [
        "- calculate the max/min-temperature, humidity & wind speed mean for each day per state"
      ]
    },
    {
      "cell_type": "code",
      "metadata": {
        "id": "RjWktl6MlTtS"
      },
      "source": [
        "weather_with_state.columns = ['Date', 'MaxTemp', 'MinTemp',\t'RelHum', 'WindVel', 'State']\n",
        "weather_with_state = weather_with_state.groupby(['Date', 'State']).mean()"
      ],
      "execution_count": null,
      "outputs": []
    },
    {
      "cell_type": "markdown",
      "metadata": {
        "id": "MI9jcJsh9y3x"
      },
      "source": [
        "- sort by state -> Date to allow interpolation from missing values. That way we can take the previous & next day to assume the missing value of that day."
      ]
    },
    {
      "cell_type": "code",
      "metadata": {
        "colab": {
          "base_uri": "https://localhost:8080/"
        },
        "id": "S2qwjIo26FD5",
        "outputId": "29a084ae-f28e-420f-bfa1-94e0970bbc09"
      },
      "source": [
        "print(weather_with_state.isnull().sum())\n",
        "weather_with_state = weather_with_state.sort_values(['State', 'Date'], ascending=True)\n",
        "weather_with_state = weather_with_state.interpolate()\n",
        "weather_with_state = weather_with_state.groupby(['Date', 'State']).mean()\n",
        "print(weather_with_state.isnull().sum())"
      ],
      "execution_count": null,
      "outputs": [
        {
          "output_type": "execute_result",
          "data": {
            "text/plain": [
              "MaxTemp    0\n",
              "MinTemp    0\n",
              "RelHum     0\n",
              "WindVel    0\n",
              "dtype: int64"
            ]
          },
          "metadata": {
            "tags": []
          },
          "execution_count": 7
        }
      ]
    },
    {
      "cell_type": "markdown",
      "metadata": {
        "id": "qELmNOfRy5MA"
      },
      "source": [
        "- rename the columns in fires_pred_knn to match the corresponding ones in weather_with_fires. \n",
        "- translate to datetime in order to make comparison possible.\n"
      ]
    },
    {
      "cell_type": "code",
      "metadata": {
        "id": "w79reO_GnVKK"
      },
      "source": [
        "fires_pred_knn.columns = ['Date', 'State', 'Fires']\n",
        "fires_pred_knn['Date'] = pd.to_datetime(fires_pred_knn['Date'])"
      ],
      "execution_count": null,
      "outputs": []
    },
    {
      "cell_type": "markdown",
      "metadata": {
        "id": "Fo11w4Udz-9b"
      },
      "source": [
        "- merge the two dataframes on the primary key pair Date+State"
      ]
    },
    {
      "cell_type": "code",
      "metadata": {
        "id": "pDdVP6nPPdrL"
      },
      "source": [
        "weather_with_fires = fires_pred_knn.merge(weather_with_state,on = ['Date','State'], how = 'right')"
      ],
      "execution_count": null,
      "outputs": []
    },
    {
      "cell_type": "markdown",
      "metadata": {
        "id": "ooNylbNY0OVk"
      },
      "source": [
        "- The days/states without fire did not get a row in fires_pred_knn therefore there are some rows that were merged with 'nothing' so there are some rows with NaN in the Fires column. As we know that there were no fires on those days, we can replace the NaN values with zeros.\n",
        "- parse the Fires column to integer as the amount of fires Fires cannot have decimal values"
      ]
    },
    {
      "cell_type": "code",
      "metadata": {
        "id": "PVfTgg3CPtHH",
        "colab": {
          "base_uri": "https://localhost:8080/",
          "height": 230
        },
        "outputId": "5c059be7-0f6c-4ea5-f2b7-4f034ba2bbf3"
      },
      "source": [
        "print(weather_with_fires.isnull().sum())\n",
        "weather_with_fires.fillna(value=0, inplace=True)\n",
        "weather_with_fires['Fires'] = weather_with_fires['Fires'].astype(int)"
      ],
      "execution_count": null,
      "outputs": [
        {
          "output_type": "error",
          "ename": "NameError",
          "evalue": "ignored",
          "traceback": [
            "\u001b[0;31m---------------------------------------------------------------------------\u001b[0m",
            "\u001b[0;31mNameError\u001b[0m                                 Traceback (most recent call last)",
            "\u001b[0;32m<ipython-input-1-fa371ffd8184>\u001b[0m in \u001b[0;36m<module>\u001b[0;34m()\u001b[0m\n\u001b[0;32m----> 1\u001b[0;31m \u001b[0mprint\u001b[0m\u001b[0;34m(\u001b[0m\u001b[0mweather_with_fires\u001b[0m\u001b[0;34m.\u001b[0m\u001b[0misnull\u001b[0m\u001b[0;34m(\u001b[0m\u001b[0;34m)\u001b[0m\u001b[0;34m.\u001b[0m\u001b[0msum\u001b[0m\u001b[0;34m(\u001b[0m\u001b[0;34m)\u001b[0m\u001b[0;34m)\u001b[0m\u001b[0;34m\u001b[0m\u001b[0;34m\u001b[0m\u001b[0m\n\u001b[0m\u001b[1;32m      2\u001b[0m \u001b[0mweather_with_fires\u001b[0m\u001b[0;34m.\u001b[0m\u001b[0mfillna\u001b[0m\u001b[0;34m(\u001b[0m\u001b[0mvalue\u001b[0m\u001b[0;34m=\u001b[0m\u001b[0;36m0\u001b[0m\u001b[0;34m,\u001b[0m \u001b[0minplace\u001b[0m\u001b[0;34m=\u001b[0m\u001b[0;32mTrue\u001b[0m\u001b[0;34m)\u001b[0m\u001b[0;34m\u001b[0m\u001b[0;34m\u001b[0m\u001b[0m\n\u001b[1;32m      3\u001b[0m \u001b[0mweather_with_fires\u001b[0m\u001b[0;34m[\u001b[0m\u001b[0;34m'Fires'\u001b[0m\u001b[0;34m]\u001b[0m \u001b[0;34m=\u001b[0m \u001b[0mweather_with_fires\u001b[0m\u001b[0;34m[\u001b[0m\u001b[0;34m'Fires'\u001b[0m\u001b[0;34m]\u001b[0m\u001b[0;34m.\u001b[0m\u001b[0mastype\u001b[0m\u001b[0;34m(\u001b[0m\u001b[0mint\u001b[0m\u001b[0;34m)\u001b[0m\u001b[0;34m\u001b[0m\u001b[0;34m\u001b[0m\u001b[0m\n\u001b[1;32m      4\u001b[0m \u001b[0mprint\u001b[0m\u001b[0;34m(\u001b[0m\u001b[0mweather_with_fires\u001b[0m\u001b[0;34m.\u001b[0m\u001b[0misnull\u001b[0m\u001b[0;34m(\u001b[0m\u001b[0;34m)\u001b[0m\u001b[0;34m.\u001b[0m\u001b[0msum\u001b[0m\u001b[0;34m(\u001b[0m\u001b[0;34m)\u001b[0m\u001b[0;34m)\u001b[0m\u001b[0;34m\u001b[0m\u001b[0;34m\u001b[0m\u001b[0m\n",
            "\u001b[0;31mNameError\u001b[0m: name 'weather_with_fires' is not defined"
          ]
        }
      ]
    },
    {
      "cell_type": "markdown",
      "metadata": {
        "id": "DSAvvwBO1SeT"
      },
      "source": [
        "- save to .csv file"
      ]
    },
    {
      "cell_type": "code",
      "metadata": {
        "id": "XbUG1NF3wF3N"
      },
      "source": [
        "weather_with_fires.to_csv('/content/drive/Shareddrives/BNCS411_Final_Project/weather_with_fires.csv')"
      ],
      "execution_count": null,
      "outputs": []
    }
  ]
}